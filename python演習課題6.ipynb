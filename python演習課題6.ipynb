{
  "nbformat": 4,
  "nbformat_minor": 0,
  "metadata": {
    "colab": {
      "provenance": []
    },
    "kernelspec": {
      "name": "python3",
      "display_name": "Python 3"
    }
  },
  "cells": [
    {
      "cell_type": "markdown",
      "metadata": {
        "id": "S2cWmzdwyHZK"
      },
      "source": [
        "# Python演習課題６\n",
        "※コードを実行する際は，▶ ボタンをクリックするか，ShiftキーとEnterキーを同時に押してください．\n",
        "\n",
        "※<code>[ア]</code>や<code>[イ]</code>などにコードを記入する際は，角括弧（[]）は削除してください．"
      ]
    },
    {
      "cell_type": "markdown",
      "metadata": {
        "id": "0EdWc6SxGisZ"
      },
      "source": [
        "**課題①** \\\\\n",
        "pandasをインポートしてcsvファイルを読み込み，<code>[ア][イ]</code>を埋めてファイルの中身を表示してください．読み込むCSVファイルのURLはhttps://bit.ly/3IrvVU2 です． \\\\\n",
        "<code>[ア]</code>ではpandasのread_csv関数を用い，読み込んだ内容（DataFrame形式）をdataに代入してください． \\\\\n",
        "<code>[イ]</code>ではdataをnumpy配列に変換してaに代入してください． \\\\\n",
        "csvファイルの中身は年、男性の平均寿命、女性の平均寿命です．"
      ]
    },
    {
      "cell_type": "code",
      "metadata": {
        "id": "RWLgmxaFcW0H"
      },
      "source": [
        "import numpy as np\n",
        "import pandas as pd\n",
        "\n",
        "#https://bit.ly/3IrvVU2からcsvファイルの読み込み\n",
        "data = [    ア    ]\n",
        "print('data = {0}'.format(data))\n",
        "\n",
        "#dataをnumpy配列に変換\n",
        "a = [    イ    ]\n",
        "print('a = {0}'.format(a))"
      ],
      "execution_count": null,
      "outputs": []
    },
    {
      "cell_type": "markdown",
      "metadata": {
        "id": "DxkvCf86bB6p"
      },
      "source": [
        "**課題②** \\\\\n",
        "以下のコードは，CSVファイルから読み込んだデータをグラフに描画するプログラムです．<br>\n",
        "グラフの横軸を年，縦軸を平均寿命とし男性の平均寿命をo，女性の平均寿命を*で描画してください．<br>\n",
        "コード内の<code>[ウ]〜[キ]</code>を埋め適切に動作するようにしてください． \\\\\n",
        "ただし，<code>[ア][イ]</code>には課題①と同じものが入ります．"
      ]
    },
    {
      "cell_type": "code",
      "metadata": {
        "id": "xNNipLWZski7"
      },
      "source": [
        "%matplotlib inline\n",
        "import numpy as np\n",
        "import pandas as pd\n",
        "import matplotlib.pyplot as plt\n",
        "\n",
        "data = [   ア   ]\n",
        "a = [   イ   ]\n",
        "\n",
        "x = [    ウ    ]\n",
        "y1 = [    エ    ]\n",
        "y2 = [    オ    ]\n",
        "\n",
        "#データ点の描画\n",
        "plt.plot( [   カ   ] )\n",
        "plt.plot( [   キ   ] )"
      ],
      "execution_count": null,
      "outputs": []
    },
    {
      "cell_type": "markdown",
      "metadata": {
        "id": "ntlM5NgBbJY_"
      },
      "source": [
        "**課題③** \\\\\n",
        "以下のコードは，sklearnの最小２乗法を適用し、課題②で作成したグラフに追加で描画するプログラムです． \\\\\n",
        "男性，女性それぞれで最小2乗法を行ない，直線を描画するプログラムを記述してください． \\\\\n",
        "ただし，<code>[ア]～[キ]</code>には課題①②と同様のものが入ります．"
      ]
    },
    {
      "cell_type": "code",
      "metadata": {
        "id": "1dog3xBeB3hW"
      },
      "source": [
        "%matplotlib inline\n",
        "import numpy as np\n",
        "import pandas as pd\n",
        "import matplotlib.pyplot as plt\n",
        "from sklearn import linear_model\n",
        "\n",
        "data = [   ア   ]\n",
        "a = [   イ   ]\n",
        "\n",
        "x = [    ウ    ]\n",
        "y1 = [    エ    ]\n",
        "y2 = [    オ    ]\n",
        "\n",
        "#データ点の描画\n",
        "plt.plot( [   カ   ] )\n",
        "plt.plot( [   キ   ] )\n",
        "\n",
        "\n",
        "#以下に男性、女性それぞれの平均寿命に対して最小２乗法を適用するプログラムを記述\n",
        "\n"
      ],
      "execution_count": null,
      "outputs": []
    }
  ]
}