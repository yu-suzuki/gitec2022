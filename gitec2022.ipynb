{
 "cells": [
  {
   "cell_type": "markdown",
   "id": "61c009cf-7173-44cf-aaaf-23f43cc4729b",
   "metadata": {},
   "source": [
    "# データ分析\n",
    "ここでは岐阜県産業総合センターにて，軸受寿命加速試験測定のデータを利用して，異常な値かどうかを推測する方法について説明します．\n",
    "\n",
    "### データ分析の簡単な流れ\n",
    "\n",
    "このシートでのデータ分析は，次のような流れで分析を行います．\n",
    "1. データの読み込み\n",
    "2. データの可視化\n",
    "3. データ分析\n",
    "\n",
    "### ライブラリの読み込み\n",
    "\n",
    "まずは，ライブラリの読み込みを行います．それぞれのライブラリは次のような意味があります．\n",
    "- *numpy* : 多次元配列を扱う\n",
    "- *matplotlib* : グラフ描画用\n",
    "- *japanize_matplotlib* : matplotlibの日本語化\n",
    "- *pandas* : データ入出力ライブラリ\n",
    "\n",
    "as の後ろは，各ライブラリのこのプログラム内での別名になります．import numpy as np と書かれていたら，以後 numpy は np という名前で呼ばれることになります．"
   ]
  },
  {
   "cell_type": "code",
   "execution_count": 2,
   "id": "3095d999-6964-4fae-a0ed-49dbea515208",
   "metadata": {},
   "outputs": [
    {
     "name": "stdout",
     "output_type": "stream",
     "text": [
      "Requirement already satisfied: numpy in /home/studio-lab-user/.conda/envs/default/lib/python3.9/site-packages (1.19.5)\n",
      "Requirement already satisfied: matplotlib in /home/studio-lab-user/.conda/envs/default/lib/python3.9/site-packages (3.3.4)\n",
      "Requirement already satisfied: cycler>=0.10 in /home/studio-lab-user/.conda/envs/default/lib/python3.9/site-packages (from matplotlib) (0.11.0)\n",
      "Requirement already satisfied: numpy>=1.15 in /home/studio-lab-user/.conda/envs/default/lib/python3.9/site-packages (from matplotlib) (1.19.5)\n",
      "Requirement already satisfied: kiwisolver>=1.0.1 in /home/studio-lab-user/.conda/envs/default/lib/python3.9/site-packages (from matplotlib) (1.4.3)\n",
      "Requirement already satisfied: pyparsing!=2.0.4,!=2.1.2,!=2.1.6,>=2.0.3 in /home/studio-lab-user/.conda/envs/default/lib/python3.9/site-packages (from matplotlib) (3.0.8)\n",
      "Requirement already satisfied: python-dateutil>=2.1 in /home/studio-lab-user/.conda/envs/default/lib/python3.9/site-packages (from matplotlib) (2.8.2)\n",
      "Requirement already satisfied: pillow>=6.2.0 in /home/studio-lab-user/.conda/envs/default/lib/python3.9/site-packages (from matplotlib) (8.3.2)\n",
      "Requirement already satisfied: six>=1.5 in /home/studio-lab-user/.conda/envs/default/lib/python3.9/site-packages (from python-dateutil>=2.1->matplotlib) (1.16.0)\n",
      "Requirement already satisfied: japanize_matplotlib in /home/studio-lab-user/.conda/envs/default/lib/python3.9/site-packages (1.1.3)\n",
      "Requirement already satisfied: matplotlib in /home/studio-lab-user/.conda/envs/default/lib/python3.9/site-packages (from japanize_matplotlib) (3.3.4)\n",
      "Requirement already satisfied: pillow>=6.2.0 in /home/studio-lab-user/.conda/envs/default/lib/python3.9/site-packages (from matplotlib->japanize_matplotlib) (8.3.2)\n",
      "Requirement already satisfied: cycler>=0.10 in /home/studio-lab-user/.conda/envs/default/lib/python3.9/site-packages (from matplotlib->japanize_matplotlib) (0.11.0)\n",
      "Requirement already satisfied: pyparsing!=2.0.4,!=2.1.2,!=2.1.6,>=2.0.3 in /home/studio-lab-user/.conda/envs/default/lib/python3.9/site-packages (from matplotlib->japanize_matplotlib) (3.0.8)\n",
      "Requirement already satisfied: kiwisolver>=1.0.1 in /home/studio-lab-user/.conda/envs/default/lib/python3.9/site-packages (from matplotlib->japanize_matplotlib) (1.4.3)\n",
      "Requirement already satisfied: python-dateutil>=2.1 in /home/studio-lab-user/.conda/envs/default/lib/python3.9/site-packages (from matplotlib->japanize_matplotlib) (2.8.2)\n",
      "Requirement already satisfied: numpy>=1.15 in /home/studio-lab-user/.conda/envs/default/lib/python3.9/site-packages (from matplotlib->japanize_matplotlib) (1.19.5)\n",
      "Requirement already satisfied: six>=1.5 in /home/studio-lab-user/.conda/envs/default/lib/python3.9/site-packages (from python-dateutil>=2.1->matplotlib->japanize_matplotlib) (1.16.0)\n",
      "Requirement already satisfied: pandas in /home/studio-lab-user/.conda/envs/default/lib/python3.9/site-packages (1.1.5)\n",
      "Requirement already satisfied: pytz>=2017.2 in /home/studio-lab-user/.conda/envs/default/lib/python3.9/site-packages (from pandas) (2022.1)\n",
      "Requirement already satisfied: numpy>=1.15.4 in /home/studio-lab-user/.conda/envs/default/lib/python3.9/site-packages (from pandas) (1.19.5)\n",
      "Requirement already satisfied: python-dateutil>=2.7.3 in /home/studio-lab-user/.conda/envs/default/lib/python3.9/site-packages (from pandas) (2.8.2)\n",
      "Requirement already satisfied: six>=1.5 in /home/studio-lab-user/.conda/envs/default/lib/python3.9/site-packages (from python-dateutil>=2.7.3->pandas) (1.16.0)\n"
     ]
    }
   ],
   "source": [
    "!pip install numpy\n",
    "!pip install matplotlib\n",
    "!pip install japanize_matplotlib\n",
    "!pip install pandas"
   ]
  },
  {
   "cell_type": "code",
   "execution_count": 1,
   "id": "1f405d61-3abc-4ad8-9cf8-fec523a6dae1",
   "metadata": {},
   "outputs": [],
   "source": [
    "import numpy as np\n",
    "import matplotlib.pyplot as plt\n",
    "import matplotlib.patches\n",
    "import matplotlib.colors\n",
    "import matplotlib.animation\n",
    "import japanize_matplotlib\n",
    "import pandas as pd"
   ]
  },
  {
   "cell_type": "markdown",
   "id": "62939572-16f5-4d46-8538-35a84542a59a",
   "metadata": {},
   "source": [
    "## データの読み込み\n",
    "\n",
    "CSVファイルのデータ \"Test6_Bearing_Inspection.csv\" を * pandas * を使って読み込みます．pandas に含まれる read_csv 関数を使います．"
   ]
  },
  {
   "cell_type": "code",
   "execution_count": 2,
   "id": "ffae21c2-62fc-4acd-9b0f-49e9400f9c4e",
   "metadata": {},
   "outputs": [],
   "source": [
    "df = pd.read_csv('Test6_Bearing_Inspection.csv')"
   ]
  },
  {
   "cell_type": "markdown",
   "id": "f326c0d9-0a84-42da-b3b6-b73f278df272",
   "metadata": {},
   "source": [
    "読み込んだデータの中身は df という変数の中に入っています．これを出力するには次のように，変数名だけを入力します．"
   ]
  },
  {
   "cell_type": "code",
   "execution_count": 3,
   "id": "73215b8f-d28a-458f-b926-4bc1e77b336d",
   "metadata": {},
   "outputs": [
    {
     "data": {
      "text/html": [
       "<div>\n",
       "<style scoped>\n",
       "    .dataframe tbody tr th:only-of-type {\n",
       "        vertical-align: middle;\n",
       "    }\n",
       "\n",
       "    .dataframe tbody tr th {\n",
       "        vertical-align: top;\n",
       "    }\n",
       "\n",
       "    .dataframe thead th {\n",
       "        text-align: right;\n",
       "    }\n",
       "</style>\n",
       "<table border=\"1\" class=\"dataframe\">\n",
       "  <thead>\n",
       "    <tr style=\"text-align: right;\">\n",
       "      <th></th>\n",
       "      <th>Japan_time(unix epoch)</th>\n",
       "      <th>Elapsed time(hours)</th>\n",
       "      <th>0.acc_pp(m/s2)</th>\n",
       "      <th>0.acc_avr(m/s2)</th>\n",
       "      <th>0.acc_rms(m/s2)</th>\n",
       "      <th>0.acc_cf(a.u.)</th>\n",
       "      <th>0.vel_pp(mm/s)</th>\n",
       "      <th>0.vel_avr(mm/s)</th>\n",
       "      <th>0.vel_rms(mm/s)</th>\n",
       "      <th>0.vel_cf(a.u.)</th>\n",
       "      <th>...</th>\n",
       "      <th>0.envlp_alert</th>\n",
       "      <th>0.alert_lvl</th>\n",
       "      <th>1.acc_alert</th>\n",
       "      <th>1.vel_alert</th>\n",
       "      <th>1.envlp_alert</th>\n",
       "      <th>1.alert_lvl</th>\n",
       "      <th>2.acc_alert</th>\n",
       "      <th>2.vel_alert</th>\n",
       "      <th>2.envlp_alert</th>\n",
       "      <th>2.alert_lvl</th>\n",
       "    </tr>\n",
       "  </thead>\n",
       "  <tbody>\n",
       "    <tr>\n",
       "      <th>0</th>\n",
       "      <td>1.639456e+09</td>\n",
       "      <td>0.000000</td>\n",
       "      <td>27.649283</td>\n",
       "      <td>1.509838</td>\n",
       "      <td>2.033136</td>\n",
       "      <td>2.719865</td>\n",
       "      <td>7.064129</td>\n",
       "      <td>1.196842</td>\n",
       "      <td>1.429350</td>\n",
       "      <td>0.988439</td>\n",
       "      <td>...</td>\n",
       "      <td>0</td>\n",
       "      <td>0</td>\n",
       "      <td>0</td>\n",
       "      <td>0</td>\n",
       "      <td>0</td>\n",
       "      <td>0</td>\n",
       "      <td>0</td>\n",
       "      <td>0</td>\n",
       "      <td>0</td>\n",
       "      <td>0</td>\n",
       "    </tr>\n",
       "    <tr>\n",
       "      <th>1</th>\n",
       "      <td>1.639457e+09</td>\n",
       "      <td>0.433370</td>\n",
       "      <td>18.053563</td>\n",
       "      <td>1.640122</td>\n",
       "      <td>2.059756</td>\n",
       "      <td>1.752981</td>\n",
       "      <td>2.976093</td>\n",
       "      <td>0.377689</td>\n",
       "      <td>0.469569</td>\n",
       "      <td>1.267585</td>\n",
       "      <td>...</td>\n",
       "      <td>0</td>\n",
       "      <td>1</td>\n",
       "      <td>0</td>\n",
       "      <td>0</td>\n",
       "      <td>0</td>\n",
       "      <td>1</td>\n",
       "      <td>0</td>\n",
       "      <td>0</td>\n",
       "      <td>0</td>\n",
       "      <td>1</td>\n",
       "    </tr>\n",
       "    <tr>\n",
       "      <th>2</th>\n",
       "      <td>1.639458e+09</td>\n",
       "      <td>0.666996</td>\n",
       "      <td>589.094513</td>\n",
       "      <td>3.270176</td>\n",
       "      <td>9.722214</td>\n",
       "      <td>12.118526</td>\n",
       "      <td>16.320402</td>\n",
       "      <td>0.607157</td>\n",
       "      <td>0.876595</td>\n",
       "      <td>3.723590</td>\n",
       "      <td>...</td>\n",
       "      <td>0</td>\n",
       "      <td>1</td>\n",
       "      <td>0</td>\n",
       "      <td>0</td>\n",
       "      <td>0</td>\n",
       "      <td>1</td>\n",
       "      <td>0</td>\n",
       "      <td>0</td>\n",
       "      <td>0</td>\n",
       "      <td>1</td>\n",
       "    </tr>\n",
       "    <tr>\n",
       "      <th>3</th>\n",
       "      <td>1.639459e+09</td>\n",
       "      <td>1.000294</td>\n",
       "      <td>24.034338</td>\n",
       "      <td>1.936883</td>\n",
       "      <td>2.452175</td>\n",
       "      <td>1.960247</td>\n",
       "      <td>2.883481</td>\n",
       "      <td>0.355780</td>\n",
       "      <td>0.439763</td>\n",
       "      <td>1.311380</td>\n",
       "      <td>...</td>\n",
       "      <td>0</td>\n",
       "      <td>1</td>\n",
       "      <td>0</td>\n",
       "      <td>0</td>\n",
       "      <td>0</td>\n",
       "      <td>1</td>\n",
       "      <td>0</td>\n",
       "      <td>0</td>\n",
       "      <td>0</td>\n",
       "      <td>1</td>\n",
       "    </tr>\n",
       "    <tr>\n",
       "      <th>4</th>\n",
       "      <td>1.639460e+09</td>\n",
       "      <td>1.333486</td>\n",
       "      <td>25.224870</td>\n",
       "      <td>1.777208</td>\n",
       "      <td>2.250248</td>\n",
       "      <td>2.241964</td>\n",
       "      <td>2.877742</td>\n",
       "      <td>0.348265</td>\n",
       "      <td>0.434328</td>\n",
       "      <td>1.325146</td>\n",
       "      <td>...</td>\n",
       "      <td>0</td>\n",
       "      <td>1</td>\n",
       "      <td>0</td>\n",
       "      <td>0</td>\n",
       "      <td>0</td>\n",
       "      <td>1</td>\n",
       "      <td>0</td>\n",
       "      <td>0</td>\n",
       "      <td>0</td>\n",
       "      <td>1</td>\n",
       "    </tr>\n",
       "    <tr>\n",
       "      <th>...</th>\n",
       "      <td>...</td>\n",
       "      <td>...</td>\n",
       "      <td>...</td>\n",
       "      <td>...</td>\n",
       "      <td>...</td>\n",
       "      <td>...</td>\n",
       "      <td>...</td>\n",
       "      <td>...</td>\n",
       "      <td>...</td>\n",
       "      <td>...</td>\n",
       "      <td>...</td>\n",
       "      <td>...</td>\n",
       "      <td>...</td>\n",
       "      <td>...</td>\n",
       "      <td>...</td>\n",
       "      <td>...</td>\n",
       "      <td>...</td>\n",
       "      <td>...</td>\n",
       "      <td>...</td>\n",
       "      <td>...</td>\n",
       "      <td>...</td>\n",
       "    </tr>\n",
       "    <tr>\n",
       "      <th>1587</th>\n",
       "      <td>1.641360e+09</td>\n",
       "      <td>529.008828</td>\n",
       "      <td>27.897819</td>\n",
       "      <td>2.237897</td>\n",
       "      <td>2.835641</td>\n",
       "      <td>1.967655</td>\n",
       "      <td>4.010345</td>\n",
       "      <td>0.520848</td>\n",
       "      <td>0.655807</td>\n",
       "      <td>1.223027</td>\n",
       "      <td>...</td>\n",
       "      <td>0</td>\n",
       "      <td>0</td>\n",
       "      <td>0</td>\n",
       "      <td>0</td>\n",
       "      <td>0</td>\n",
       "      <td>0</td>\n",
       "      <td>0</td>\n",
       "      <td>0</td>\n",
       "      <td>0</td>\n",
       "      <td>0</td>\n",
       "    </tr>\n",
       "    <tr>\n",
       "      <th>1588</th>\n",
       "      <td>1.641361e+09</td>\n",
       "      <td>529.342283</td>\n",
       "      <td>3.132817</td>\n",
       "      <td>0.270295</td>\n",
       "      <td>0.363549</td>\n",
       "      <td>1.723465</td>\n",
       "      <td>1.012518</td>\n",
       "      <td>0.120055</td>\n",
       "      <td>0.152458</td>\n",
       "      <td>1.328262</td>\n",
       "      <td>...</td>\n",
       "      <td>0</td>\n",
       "      <td>0</td>\n",
       "      <td>0</td>\n",
       "      <td>0</td>\n",
       "      <td>0</td>\n",
       "      <td>0</td>\n",
       "      <td>0</td>\n",
       "      <td>0</td>\n",
       "      <td>0</td>\n",
       "      <td>0</td>\n",
       "    </tr>\n",
       "    <tr>\n",
       "      <th>1589</th>\n",
       "      <td>1.641362e+09</td>\n",
       "      <td>529.675458</td>\n",
       "      <td>1848.945789</td>\n",
       "      <td>61.840183</td>\n",
       "      <td>116.904847</td>\n",
       "      <td>3.163164</td>\n",
       "      <td>618.502543</td>\n",
       "      <td>66.861891</td>\n",
       "      <td>92.319903</td>\n",
       "      <td>1.339912</td>\n",
       "      <td>...</td>\n",
       "      <td>2</td>\n",
       "      <td>5</td>\n",
       "      <td>1</td>\n",
       "      <td>2</td>\n",
       "      <td>1</td>\n",
       "      <td>5</td>\n",
       "      <td>1</td>\n",
       "      <td>2</td>\n",
       "      <td>1</td>\n",
       "      <td>5</td>\n",
       "    </tr>\n",
       "    <tr>\n",
       "      <th>1590</th>\n",
       "      <td>1.641364e+09</td>\n",
       "      <td>530.008913</td>\n",
       "      <td>2.782037</td>\n",
       "      <td>0.270504</td>\n",
       "      <td>0.360246</td>\n",
       "      <td>1.544523</td>\n",
       "      <td>1.425855</td>\n",
       "      <td>0.162176</td>\n",
       "      <td>0.204559</td>\n",
       "      <td>1.394078</td>\n",
       "      <td>...</td>\n",
       "      <td>0</td>\n",
       "      <td>0</td>\n",
       "      <td>0</td>\n",
       "      <td>0</td>\n",
       "      <td>0</td>\n",
       "      <td>0</td>\n",
       "      <td>0</td>\n",
       "      <td>0</td>\n",
       "      <td>0</td>\n",
       "      <td>0</td>\n",
       "    </tr>\n",
       "    <tr>\n",
       "      <th>1591</th>\n",
       "      <td>1.641365e+09</td>\n",
       "      <td>530.342389</td>\n",
       "      <td>2.825169</td>\n",
       "      <td>0.262984</td>\n",
       "      <td>0.354789</td>\n",
       "      <td>1.592592</td>\n",
       "      <td>0.892371</td>\n",
       "      <td>0.105690</td>\n",
       "      <td>0.133655</td>\n",
       "      <td>1.335332</td>\n",
       "      <td>...</td>\n",
       "      <td>0</td>\n",
       "      <td>0</td>\n",
       "      <td>0</td>\n",
       "      <td>0</td>\n",
       "      <td>0</td>\n",
       "      <td>0</td>\n",
       "      <td>0</td>\n",
       "      <td>0</td>\n",
       "      <td>0</td>\n",
       "      <td>0</td>\n",
       "    </tr>\n",
       "  </tbody>\n",
       "</table>\n",
       "<p>1592 rows × 86 columns</p>\n",
       "</div>"
      ],
      "text/plain": [
       "      Japan_time(unix epoch)  Elapsed time(hours)  0.acc_pp(m/s2)  \\\n",
       "0               1.639456e+09             0.000000       27.649283   \n",
       "1               1.639457e+09             0.433370       18.053563   \n",
       "2               1.639458e+09             0.666996      589.094513   \n",
       "3               1.639459e+09             1.000294       24.034338   \n",
       "4               1.639460e+09             1.333486       25.224870   \n",
       "...                      ...                  ...             ...   \n",
       "1587            1.641360e+09           529.008828       27.897819   \n",
       "1588            1.641361e+09           529.342283        3.132817   \n",
       "1589            1.641362e+09           529.675458     1848.945789   \n",
       "1590            1.641364e+09           530.008913        2.782037   \n",
       "1591            1.641365e+09           530.342389        2.825169   \n",
       "\n",
       "      0.acc_avr(m/s2)  0.acc_rms(m/s2)  0.acc_cf(a.u.)  0.vel_pp(mm/s)  \\\n",
       "0            1.509838         2.033136        2.719865        7.064129   \n",
       "1            1.640122         2.059756        1.752981        2.976093   \n",
       "2            3.270176         9.722214       12.118526       16.320402   \n",
       "3            1.936883         2.452175        1.960247        2.883481   \n",
       "4            1.777208         2.250248        2.241964        2.877742   \n",
       "...               ...              ...             ...             ...   \n",
       "1587         2.237897         2.835641        1.967655        4.010345   \n",
       "1588         0.270295         0.363549        1.723465        1.012518   \n",
       "1589        61.840183       116.904847        3.163164      618.502543   \n",
       "1590         0.270504         0.360246        1.544523        1.425855   \n",
       "1591         0.262984         0.354789        1.592592        0.892371   \n",
       "\n",
       "      0.vel_avr(mm/s)  0.vel_rms(mm/s)  0.vel_cf(a.u.)  ...  0.envlp_alert  \\\n",
       "0            1.196842         1.429350        0.988439  ...              0   \n",
       "1            0.377689         0.469569        1.267585  ...              0   \n",
       "2            0.607157         0.876595        3.723590  ...              0   \n",
       "3            0.355780         0.439763        1.311380  ...              0   \n",
       "4            0.348265         0.434328        1.325146  ...              0   \n",
       "...               ...              ...             ...  ...            ...   \n",
       "1587         0.520848         0.655807        1.223027  ...              0   \n",
       "1588         0.120055         0.152458        1.328262  ...              0   \n",
       "1589        66.861891        92.319903        1.339912  ...              2   \n",
       "1590         0.162176         0.204559        1.394078  ...              0   \n",
       "1591         0.105690         0.133655        1.335332  ...              0   \n",
       "\n",
       "      0.alert_lvl  1.acc_alert  1.vel_alert  1.envlp_alert  1.alert_lvl  \\\n",
       "0               0            0            0              0            0   \n",
       "1               1            0            0              0            1   \n",
       "2               1            0            0              0            1   \n",
       "3               1            0            0              0            1   \n",
       "4               1            0            0              0            1   \n",
       "...           ...          ...          ...            ...          ...   \n",
       "1587            0            0            0              0            0   \n",
       "1588            0            0            0              0            0   \n",
       "1589            5            1            2              1            5   \n",
       "1590            0            0            0              0            0   \n",
       "1591            0            0            0              0            0   \n",
       "\n",
       "      2.acc_alert  2.vel_alert  2.envlp_alert  2.alert_lvl  \n",
       "0               0            0              0            0  \n",
       "1               0            0              0            1  \n",
       "2               0            0              0            1  \n",
       "3               0            0              0            1  \n",
       "4               0            0              0            1  \n",
       "...           ...          ...            ...          ...  \n",
       "1587            0            0              0            0  \n",
       "1588            0            0              0            0  \n",
       "1589            1            2              1            5  \n",
       "1590            0            0              0            0  \n",
       "1591            0            0              0            0  \n",
       "\n",
       "[1592 rows x 86 columns]"
      ]
     },
     "execution_count": 3,
     "metadata": {},
     "output_type": "execute_result"
    }
   ],
   "source": [
    "df"
   ]
  },
  {
   "cell_type": "markdown",
   "id": "741b6dfa-6ae2-4c13-ac19-ec018501646d",
   "metadata": {},
   "source": [
    "この表には1592行，86列のデータがあります．例えば2行目の経過時間 \"Elapsed time(hours)\" と5行目 CH0(軸受No.3 皿バネ)の振動加速度の実効値 \"0.acc_rms(m/s2)\" を抽出してみましょう．\n",
    "\n",
    "データの抽出には loc を使います．一つ目の引数 \":\" は，全ての行を使うという意味．二つ目の引数は列のうち \"Elapsed time(hours)\" と \"0.acc_rms(m/s2)\" だけを抜き出すという意味です．データを選んで表示しているだけなので，変数 df の中身は変更していません．"
   ]
  },
  {
   "cell_type": "code",
   "execution_count": 4,
   "id": "3b55b3db-10f5-42da-aa25-339a481211e5",
   "metadata": {},
   "outputs": [
    {
     "data": {
      "text/html": [
       "<div>\n",
       "<style scoped>\n",
       "    .dataframe tbody tr th:only-of-type {\n",
       "        vertical-align: middle;\n",
       "    }\n",
       "\n",
       "    .dataframe tbody tr th {\n",
       "        vertical-align: top;\n",
       "    }\n",
       "\n",
       "    .dataframe thead th {\n",
       "        text-align: right;\n",
       "    }\n",
       "</style>\n",
       "<table border=\"1\" class=\"dataframe\">\n",
       "  <thead>\n",
       "    <tr style=\"text-align: right;\">\n",
       "      <th></th>\n",
       "      <th>Elapsed time(hours)</th>\n",
       "      <th>0.acc_rms(m/s2)</th>\n",
       "    </tr>\n",
       "  </thead>\n",
       "  <tbody>\n",
       "    <tr>\n",
       "      <th>0</th>\n",
       "      <td>0.000000</td>\n",
       "      <td>2.033136</td>\n",
       "    </tr>\n",
       "    <tr>\n",
       "      <th>1</th>\n",
       "      <td>0.433370</td>\n",
       "      <td>2.059756</td>\n",
       "    </tr>\n",
       "    <tr>\n",
       "      <th>2</th>\n",
       "      <td>0.666996</td>\n",
       "      <td>9.722214</td>\n",
       "    </tr>\n",
       "    <tr>\n",
       "      <th>3</th>\n",
       "      <td>1.000294</td>\n",
       "      <td>2.452175</td>\n",
       "    </tr>\n",
       "    <tr>\n",
       "      <th>4</th>\n",
       "      <td>1.333486</td>\n",
       "      <td>2.250248</td>\n",
       "    </tr>\n",
       "    <tr>\n",
       "      <th>...</th>\n",
       "      <td>...</td>\n",
       "      <td>...</td>\n",
       "    </tr>\n",
       "    <tr>\n",
       "      <th>1587</th>\n",
       "      <td>529.008828</td>\n",
       "      <td>2.835641</td>\n",
       "    </tr>\n",
       "    <tr>\n",
       "      <th>1588</th>\n",
       "      <td>529.342283</td>\n",
       "      <td>0.363549</td>\n",
       "    </tr>\n",
       "    <tr>\n",
       "      <th>1589</th>\n",
       "      <td>529.675458</td>\n",
       "      <td>116.904847</td>\n",
       "    </tr>\n",
       "    <tr>\n",
       "      <th>1590</th>\n",
       "      <td>530.008913</td>\n",
       "      <td>0.360246</td>\n",
       "    </tr>\n",
       "    <tr>\n",
       "      <th>1591</th>\n",
       "      <td>530.342389</td>\n",
       "      <td>0.354789</td>\n",
       "    </tr>\n",
       "  </tbody>\n",
       "</table>\n",
       "<p>1592 rows × 2 columns</p>\n",
       "</div>"
      ],
      "text/plain": [
       "      Elapsed time(hours)  0.acc_rms(m/s2)\n",
       "0                0.000000         2.033136\n",
       "1                0.433370         2.059756\n",
       "2                0.666996         9.722214\n",
       "3                1.000294         2.452175\n",
       "4                1.333486         2.250248\n",
       "...                   ...              ...\n",
       "1587           529.008828         2.835641\n",
       "1588           529.342283         0.363549\n",
       "1589           529.675458       116.904847\n",
       "1590           530.008913         0.360246\n",
       "1591           530.342389         0.354789\n",
       "\n",
       "[1592 rows x 2 columns]"
      ]
     },
     "execution_count": 4,
     "metadata": {},
     "output_type": "execute_result"
    }
   ],
   "source": [
    "df.loc[:,['Elapsed time(hours)', '0.acc_rms(m/s2)']]"
   ]
  },
  {
   "cell_type": "markdown",
   "id": "f21f7142-187d-4b9e-bd37-0ee4194e6caa",
   "metadata": {},
   "source": [
    "### データの可視化\n",
    "\n",
    "dfの中の '0.acc_rms(m/s2)' について，図示してみましょう．図示には matplotlib を使います．ライブラリ読み込みで，matplotlib は plt という略称を付けたので，以下 plt という名前で呼び出します．\n",
    "\n",
    "'0.acc_rms(m/s2)' の列だけを簡易的に図示するには matplotlib の plot 関数を使います．\n"
   ]
  },
  {
   "cell_type": "code",
   "execution_count": 5,
   "id": "f94a128d-598d-454d-94c0-5bd93eeb53f1",
   "metadata": {},
   "outputs": [
    {
     "data": {
      "image/png": "[encoded data removed]",
      "text/plain": [
       "<Figure size 432x288 with 1 Axes>"
      ]
     },
     "metadata": {
      "needs_background": "light"
     },
     "output_type": "display_data"
    }
   ],
   "source": [
    "plt.plot(df.loc[:,['0.acc_rms(m/s2)']])\n",
    "plt.show()"
   ]
  },
  {
   "cell_type": "markdown",
   "id": "14fcedff-3dc6-4a44-914f-32f856801bea",
   "metadata": {},
   "source": [
    "このように書くと，x軸はデータがある行数，y軸はデータにある値がプロットされます．x軸を経過時間にしたいときは，次のように変更します．ついでにx軸のラベル，y軸のラベルを変更し，凡例も追加します．"
   ]
  },
  {
   "cell_type": "code",
   "execution_count": 19,
   "id": "6ad02301-a3b7-43eb-b197-243e1ce85938",
   "metadata": {},
   "outputs": [
    {
     "data": {
      "image/png": "[encoded data removed]",
      "text/plain": [
       "<Figure size 432x288 with 1 Axes>"
      ]
     },
     "metadata": {
      "needs_background": "light"
     },
     "output_type": "display_data"
    }
   ],
   "source": [
    "# データをプロット\n",
    "# plt.plot(x軸データ，y軸データ, label=ラベル名) \n",
    "plt.plot(df.loc[:,['Elapsed time(hours)']], df.loc[:,['0.acc_rms(m/s2)']], label=\"軸受1の振動加速度\")\n",
    "\n",
    "# x軸のラベルを設定\n",
    "# plt.xlabel(x軸のラベル名)\n",
    "plt.xlabel(\"経過時間\")\n",
    "\n",
    "# y軸のラベルを設定\n",
    "# plt.ylabel(y軸のラベル名)\n",
    "plt.ylabel(\"振動加速度実効値 [m/s2]\")\n",
    "\n",
    "# 凡例を表示する\n",
    "plt.legend()\n",
    "\n",
    "# グラフを出力\n",
    "plt.show()"
   ]
  },
  {
   "cell_type": "markdown",
   "id": "1004f149-5b9b-45cc-b42c-506b379144ce",
   "metadata": {},
   "source": [
    "これ以外にもたくさんのオプションがあり，画像のサイズを変更する，線の色を変更する，太さを変更するなどできます．"
   ]
  },
  {
   "cell_type": "markdown",
   "id": "9ee6881f-9031-441c-b180-39cdcd0160bc",
   "metadata": {},
   "source": [
    "### 複数の種類のデータを一つのグラフに表示\n",
    "データには軸受1以外にも軸受2，軸受3のデータがあります．そこで次に，三つのデータ（軸受No.1，No.2，No.3の振動加速度）をグラフに出力します．"
   ]
  },
  {
   "cell_type": "code",
   "execution_count": 7,
   "id": "395da59c-f4a7-4ed4-bed1-a2db56fa6b9a",
   "metadata": {},
   "outputs": [
    {
     "data": {
      "image/png": "[encoded data removed]",
      "text/plain": [
       "<Figure size 648x345.6 with 1 Axes>"
      ]
     },
     "metadata": {
      "needs_background": "light"
     },
     "output_type": "display_data"
    }
   ],
   "source": [
    "fig = plt.figure(figsize=(9, 4.8))\n",
    "ax = fig.add_subplot(111, xlabel=\"経過時間\", ylabel='振動加速度実効値 [m/s2]')\n",
    "ax.plot(df['Elapsed time(hours)'],df['0.acc_rms(m/s2)'], label=\"軸受1の振動加速度\")\n",
    "ax.plot(df['Elapsed time(hours)'],df['1.acc_rms(m/s2)'], label=\"軸受2の振動加速度\")\n",
    "ax.plot(df['Elapsed time(hours)'],df['2.acc_rms(m/s2)'], label=\"軸受3の振動加速度\")\n",
    "ax.legend()\n",
    "fig.show()"
   ]
  },
  {
   "cell_type": "markdown",
   "id": "1a90e15a-62d6-49d3-86b0-3ce6aacf3a49",
   "metadata": {},
   "source": [
    "### Q1: 他のデータについてもグラフ表示をしてみましょう．\n",
    "**三種類の振動速度（軸受No.1,No.2,No.3）**を図示してみてください．"
   ]
  },
  {
   "cell_type": "code",
   "execution_count": null,
   "id": "225ddb43-e333-4963-93a4-a196f2f65eaa",
   "metadata": {},
   "outputs": [],
   "source": [
    "fig = plt.figure(figsize=(9, 4.8))\n",
    "ax = fig.add_subplot(111, xlabel=\"経過時間\", ylabel='振動速度実効値 [mm/s]')\n",
    "ax.plot() # ここに内容を埋める\n",
    "ax.legend()\n",
    "fig.show()"
   ]
  },
  {
   "cell_type": "markdown",
   "id": "68d9ab89-9001-4c2a-a150-46dbab9d9438",
   "metadata": {},
   "source": [
    "### 「緊急度」判定のグラフ表示\n",
    "緊急度 (0.alert_lvl, 1.alert_lvl, 2.alert_lvl)をグラフで表示します．"
   ]
  },
  {
   "cell_type": "code",
   "execution_count": 8,
   "id": "ec34309a-78cb-412f-9cd0-21b1e3e61bbe",
   "metadata": {},
   "outputs": [
    {
     "data": {
      "image/png": "[encoded data removed]",
      "text/plain": [
       "<Figure size 648x345.6 with 1 Axes>"
      ]
     },
     "metadata": {
      "needs_background": "light"
     },
     "output_type": "display_data"
    }
   ],
   "source": [
    "fig2 = plt.figure(figsize=(9, 4.8))\n",
    "bx = fig2.add_subplot(111, xlabel=\"経過時間\", ylabel='アラートレベル')\n",
    "bx.plot(df['Elapsed time(hours)'],df['0.alert_lvl'])\n",
    "bx.plot(df['Elapsed time(hours)'],df['1.alert_lvl'])\n",
    "bx.plot(df['Elapsed time(hours)'],df['2.alert_lvl'])\n",
    "fig2.show()"
   ]
  },
  {
   "cell_type": "markdown",
   "id": "8a4b6f71-3411-4653-890b-38d67bdd5b79",
   "metadata": {},
   "source": [
    "# データ分析\n",
    "振動加速度の値から緊急度を判定できるかどうかについて，推測を行います．入力は振動加速度 (acc_rms(m/s2)) の値，出力は緊急度(alert_lvl)になります．\n",
    "まずは，データ分析に関するライブラリを読み込みます．"
   ]
  },
  {
   "cell_type": "code",
   "execution_count": 9,
   "id": "a8e4bc24-3875-45e6-9953-d1c11620f26e",
   "metadata": {},
   "outputs": [],
   "source": [
    "from sklearn.linear_model import Perceptron\n",
    "from sklearn.model_selection import train_test_split"
   ]
  },
  {
   "cell_type": "markdown",
   "id": "73eecbc4-6d71-4fe9-b4fa-817d96e418ce",
   "metadata": {},
   "source": [
    "データを訓練データとテストデータに分割します．ランダムに分けます．"
   ]
  },
  {
   "cell_type": "code",
   "execution_count": 46,
   "id": "d2d7a2e0-eeb9-4af1-90b8-8c6986481433",
   "metadata": {},
   "outputs": [],
   "source": [
    "X_train, X_test, Y_train, Y_test = train_test_split(df[['1.acc_rms(m/s2)']], df['1.alert_lvl'], random_state=0)"
   ]
  },
  {
   "cell_type": "markdown",
   "id": "b062f80f-6bfd-41ed-9d6d-187e254ba8a4",
   "metadata": {},
   "source": [
    "ここでは機械学習の方法の一つであるパーセプトロンを用いて，データを推定します．"
   ]
  },
  {
   "cell_type": "code",
   "execution_count": 47,
   "id": "75baf2b9-3a84-48bd-9276-6c62b818e489",
   "metadata": {},
   "outputs": [],
   "source": [
    "ppt = Perceptron()\n",
    "ppt.fit(X_train.values, Y_train.values)\n",
    "X_test_values = X_test.sort_index().values\n",
    "Y_pred = pd.DataFrame(ppt.predict(X_test_values), index=Y_test.index, columns=['1.alert_lvl_pred'])\n",
    "Y_result = pd.merge(Y_pred, Y_test, left_index=True, right_index=True)"
   ]
  },
  {
   "cell_type": "markdown",
   "id": "b2fa38ea-2cfe-45d9-8f3c-2fdec2af6495",
   "metadata": {},
   "source": [
    "うまくデータが推測できているかどうかを確かめるために，評価を行います．"
   ]
  },
  {
   "cell_type": "code",
   "execution_count": 13,
   "id": "b0dfd2a4-2a7f-47a5-bf08-f2c57582724a",
   "metadata": {},
   "outputs": [
    {
     "name": "stdout",
     "output_type": "stream",
     "text": [
      "MAE = 0.528,  RMSE = 0.760,  test_score = 0.497, train_score = 0.577\n",
      "Coef = [-12.40712787]\n",
      "Intercept = [  87.   11. -333.  -24.]\n"
     ]
    }
   ],
   "source": [
    "from sklearn.metrics import mean_squared_error\n",
    "from sklearn.metrics import mean_absolute_error\n",
    "mae = mean_absolute_error(Y_result['1.alert_lvl'], Y_result['1.alert_lvl_pred'])\n",
    "rmse = np.sqrt(mean_squared_error(Y_result['1.alert_lvl'], Y_result['1.alert_lvl_pred']))\n",
    "test_score = ppt.score(X_test, Y_test)\n",
    "train_score = ppt.score(X_train, Y_train)\n",
    "coef = ppt.coef_[0]\n",
    "intercept = ppt.intercept_\n",
    "print(\"MAE = %.3f,  RMSE = %.3f,  test_score = %.3f, train_score = %.3f\" % (mae, rmse, test_score, train_score))\n",
    "print(\"Coef =\", coef)\n",
    "print(\"Intercept =\", intercept)"
   ]
  },
  {
   "cell_type": "markdown",
   "id": "adcbb39a-fb0e-4174-8553-5de1744c0b76",
   "metadata": {},
   "source": [
    "テストデータを使って，実際のデータとその予測値，実際の緊急度を図示します．"
   ]
  },
  {
   "cell_type": "code",
   "execution_count": 43,
   "id": "1619c125-47b4-4493-ada3-205919bda2a1",
   "metadata": {},
   "outputs": [
    {
     "data": {
      "text/plain": [
       "<bound method Figure.show of <Figure size 648x345.6 with 2 Axes>>"
      ]
     },
     "execution_count": 43,
     "metadata": {},
     "output_type": "execute_result"
    },
    {
     "data": {
      "image/png": "[encoded data removed]",
      "text/plain": [
       "<Figure size 648x345.6 with 2 Axes>"
      ]
     },
     "metadata": {
      "needs_background": "light"
     },
     "output_type": "display_data"
    }
   ],
   "source": [
    "fig3 = plt.figure(figsize=(9, 4.8))\n",
    "cx = fig3.add_subplot(111, xlabel=\"経過時間\", ylabel='アラートレベル')\n",
    "cx.plot(Y_result['1.alert_lvl'].sort_index(), label=\"実際\")\n",
    "cx.plot(Y_result['1.alert_lvl_pred'].sort_index(), label=\"予測\")\n",
    "cx2 = cx.twinx()\n",
    "cx2.plot(X_test.sort_index(), label=\"実際のデータ\", color='red')\n",
    "cx.legend()\n",
    "fig3.show"
   ]
  },
  {
   "cell_type": "markdown",
   "id": "4228f069-3975-4073-bfe6-f1cc89ddf4f6",
   "metadata": {},
   "source": [
    "混同行列で，どれくらい正しく緊急度を当てることができたかを確かめます．"
   ]
  },
  {
   "cell_type": "code",
   "execution_count": 45,
   "id": "5ce9beea-36d5-4265-8722-c91f07861f3c",
   "metadata": {},
   "outputs": [
    {
     "name": "stdout",
     "output_type": "stream",
     "text": [
      "[[ 12 126  10]\n",
      " [ 11 185  11]\n",
      " [  0  42   1]]\n"
     ]
    }
   ],
   "source": [
    "from sklearn.metrics import confusion_matrix\n",
    "cm = confusion_matrix(Y_test, Y_pred)\n",
    "print(cm)"
   ]
  },
  {
   "cell_type": "code",
   "execution_count": null,
   "id": "2a12fe01-17e3-41e4-8dfd-fd0ad9d17918",
   "metadata": {},
   "outputs": [],
   "source": []
  }
 ],
 "metadata": {
  "kernelspec": {
   "display_name": "default:Python",
   "language": "python",
   "name": "conda-env-default-py"
  },
  "language_info": {
   "codemirror_mode": {
    "name": "ipython",
    "version": 3
   },
   "file_extension": ".py",
   "mimetype": "text/x-python",
   "name": "python",
   "nbconvert_exporter": "python",
   "pygments_lexer": "ipython3",
   "version": "3.9.12"
  }
 },
 "nbformat": 4,
 "nbformat_minor": 5
}
