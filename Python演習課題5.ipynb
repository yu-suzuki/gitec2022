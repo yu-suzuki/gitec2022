{
  "nbformat": 4,
  "nbformat_minor": 0,
  "metadata": {
    "colab": {
      "provenance": []
    },
    "kernelspec": {
      "name": "python3",
      "display_name": "Python 3"
    }
  },
  "cells": [
    {
      "cell_type": "markdown",
      "metadata": {
        "id": "IpNJWeRr3YCR"
      },
      "source": [
        "# Python演習課題５\n",
        "※コードを実行する際は，▶ ボタンをクリックするか，ShiftキーとEnterキーを同時に押してください．\n",
        "\n",
        "※<code>[ア]</code>や<code>[イ]</code>などにコードを記入する際は，角括弧（[]）は削除してください．"
      ]
    },
    {
      "cell_type": "markdown",
      "metadata": {
        "id": "xzSp3SmmRCrZ"
      },
      "source": [
        "<font size=\"+1\">**課題①**</font><br>\n",
        "numpyの基本的な操作を確認しましょう．<br>\n",
        "<br>\n",
        "**課題①-1**<br>\n",
        "講義スライドに倣い，numpyをインポートしましょう．"
      ]
    },
    {
      "cell_type": "code",
      "metadata": {
        "id": "BkmSz3UvgPrU"
      },
      "source": [],
      "execution_count": null,
      "outputs": []
    },
    {
      "cell_type": "markdown",
      "metadata": {
        "id": "tHjkNHwRgWHD"
      },
      "source": [
        "**課題①-2**<br>\n",
        "4×4の単位行列<code>a</code>を作成しましょう．"
      ]
    },
    {
      "cell_type": "code",
      "metadata": {
        "id": "YR49jORv6IgJ"
      },
      "source": [],
      "execution_count": null,
      "outputs": []
    },
    {
      "cell_type": "markdown",
      "metadata": {
        "id": "9NskeM9U6PCN"
      },
      "source": [
        "**課題①-3**<br>\n",
        "以下を要素に持つ行列<code>b</code>を作成しましょう．<br>\n",
        "<table>\n",
        "<tr><th>0</th><th>1</th><th>2</th><th>3</th></tr>\n",
        "<tr><th>4</th><th>5</th><th>6</th><th>7</th></tr>\n",
        "<tr><th>8</th><th>9</th><th>10</th><th>11</th></tr>\n",
        "<tr><th>12</th><th>13</th><th>14</th><th>15</th></tr>\n",
        "</table>"
      ]
    },
    {
      "cell_type": "code",
      "metadata": {
        "id": "y10rKqrz8IN_"
      },
      "source": [],
      "execution_count": null,
      "outputs": []
    },
    {
      "cell_type": "markdown",
      "metadata": {
        "id": "DasBMwkCP3Nr"
      },
      "source": [
        "**課題①-4**<br>\n",
        "スライスを利用し，行列<code>b</code>の0行目を抽出したベクトル<code>c</code>を生成しましょう．<br>\n",
        "また，行列<code>b</code>の1列目を抽出したベクトル<code>d</code>を生成しましょう．"
      ]
    },
    {
      "cell_type": "code",
      "metadata": {
        "id": "17iza3kIP_xN"
      },
      "source": [],
      "execution_count": null,
      "outputs": []
    },
    {
      "cell_type": "markdown",
      "metadata": {
        "id": "HCCe6QCQWwfx"
      },
      "source": [
        "**課題①-5**<br>\n",
        "インデックスに整数を用いた場合，ベクトル<code>d</code>は列方向を抽出したにもかかわらず，ベクトル<code>c</code>と同様に行方向に要素が並んだもの（行ベクトル）となります．<br>\n",
        "インデックスを<code>1:2</code>とし，行列<code>b</code>の1列目を抽出した**列**ベクトル<code>e</code>を生成しましょう．"
      ]
    },
    {
      "cell_type": "code",
      "metadata": {
        "id": "iy7XRYlIQOmT"
      },
      "source": [],
      "execution_count": null,
      "outputs": []
    },
    {
      "cell_type": "markdown",
      "metadata": {
        "id": "3K13Qt0j8Mvn"
      },
      "source": [
        "**課題①-6**<br>\n",
        "行列<code>a</code>と行列<code>b</code>を要素ごとに加算し，行列<code>f</code>としましょう．"
      ]
    },
    {
      "cell_type": "code",
      "metadata": {
        "id": "D6yTG-RO8rx0"
      },
      "source": [],
      "execution_count": null,
      "outputs": []
    },
    {
      "cell_type": "markdown",
      "metadata": {
        "id": "ueITKWHaZXOz"
      },
      "source": [
        "**課題①-7**<br>\n",
        "行列<code>f</code>の3行2列目の要素を表示しましょう．"
      ]
    },
    {
      "cell_type": "code",
      "metadata": {
        "id": "hsZmgm-XZf_n"
      },
      "source": [],
      "execution_count": null,
      "outputs": []
    },
    {
      "cell_type": "markdown",
      "metadata": {
        "id": "L-Jx1nYv877N"
      },
      "source": [
        "**課題①-8**<br>\n",
        "行列<code>f</code>の各要素に対し$\\cos$の値を取り，行列<code>g</code>としましょう\n",
        "."
      ]
    },
    {
      "cell_type": "code",
      "metadata": {
        "id": "T_VpYGIm9ev9"
      },
      "source": [],
      "execution_count": null,
      "outputs": []
    },
    {
      "cell_type": "markdown",
      "metadata": {
        "id": "0F6Cq8h39l6r"
      },
      "source": [
        "**課題①-9**<br>\n",
        "行列<code>g</code>に対し，行のインデックスが増える方向（axis=0）に和を取ったベクトル<code>h</code>と列のインデックスが増える方向（axis=1）に和を取ったベクトル<code>i</code>を生成しましょう．"
      ]
    },
    {
      "cell_type": "code",
      "metadata": {
        "id": "29BOmeT1_xlv"
      },
      "source": [],
      "execution_count": null,
      "outputs": []
    },
    {
      "cell_type": "markdown",
      "metadata": {
        "id": "7YWvWhsQAFGW"
      },
      "source": [
        "**課題①-10**<br>\n",
        "ベクトル<code>i</code>に対し，0以上の要素のみを持つベクトル<code>j</code>を生成しましょう．"
      ]
    },
    {
      "cell_type": "code",
      "metadata": {
        "id": "Ym3E2MlQAq9r"
      },
      "source": [],
      "execution_count": null,
      "outputs": []
    },
    {
      "cell_type": "markdown",
      "metadata": {
        "id": "EuxG3nDCY4IR"
      },
      "source": [
        "**課題①-11**<br>\n",
        "ベクトル<code>j</code>を利用し，ベクトル<code>i</code>のうち0以上の要素の和を求め表示しましょう．"
      ]
    },
    {
      "cell_type": "code",
      "metadata": {
        "id": "gD4Unh-1PnKX"
      },
      "source": [],
      "execution_count": null,
      "outputs": []
    },
    {
      "cell_type": "markdown",
      "metadata": {
        "id": "1oUbQTOMvlew"
      },
      "source": [
        "<font size=\"+1\">**課題②**</font><br>\n",
        "$y=\\sin(x)$のグラフを$[-\\pi, \\pi]$の区間で描画することを考えます．<br>\n",
        "<br>\n",
        "**課題②-1**<br>\n",
        "講義スライドに倣い，numpyとmatplotlibのpyplotをインポートしましょう．"
      ]
    },
    {
      "cell_type": "code",
      "metadata": {
        "id": "NgjDwGXCqt9o"
      },
      "source": [],
      "execution_count": null,
      "outputs": []
    },
    {
      "cell_type": "markdown",
      "metadata": {
        "id": "pWUTYJEdwc5X"
      },
      "source": [
        "**課題②-2**<br>\n",
        "$[-5, 5]$の区間で0.01刻みの小数列を要素に持つ配列<code>x</code>を生成しましょう．<br>\n",
        "また，配列<code>x</code>の各要素に対して$y=\\sin2x$を通した数を要素に持つ配列<code>y</code>を生成しましょう．"
      ]
    },
    {
      "cell_type": "code",
      "metadata": {
        "id": "JzNEdAG-q3lb"
      },
      "source": [],
      "execution_count": null,
      "outputs": []
    },
    {
      "cell_type": "markdown",
      "metadata": {
        "id": "iW6zlIrCzzlh"
      },
      "source": [
        "**課題②-3**<br>\n",
        "生成した配列<code>x</code>および<code>y</code>を用いて$y=\\sin2x$のグラフを描画し，表示しましょう．<br>\n",
        "この段階ではタイトルや範囲などを指定する必要はありません．"
      ]
    },
    {
      "cell_type": "code",
      "metadata": {
        "id": "YExLHy45rkpT"
      },
      "source": [],
      "execution_count": null,
      "outputs": []
    },
    {
      "cell_type": "markdown",
      "metadata": {
        "id": "BD9W8epG1aXc"
      },
      "source": [
        "**課題②-4**<br>\n",
        "課題②-3のコードを改変して，x軸方向の表示範囲を$[-\\pi, \\pi]$にしましょう．"
      ]
    },
    {
      "cell_type": "code",
      "metadata": {
        "id": "7ng3R33wsbKh"
      },
      "source": [],
      "execution_count": null,
      "outputs": []
    },
    {
      "cell_type": "markdown",
      "metadata": {
        "id": "CpIRpugc1xvR"
      },
      "source": [
        "**課題②-5**<br>\n",
        "課題②-4のコードを改変して，タイトルを付けて表示しましょう．"
      ]
    },
    {
      "cell_type": "code",
      "metadata": {
        "id": "Ce1vTwAKs-iz"
      },
      "source": [],
      "execution_count": null,
      "outputs": []
    },
    {
      "cell_type": "markdown",
      "metadata": {
        "id": "kg9CZcyDDwiO"
      },
      "source": [
        "**課題③**<br>\n",
        "以下の条件を満たすグラフを描画し，表示してください．<br>\n",
        "ただし，x軸の要素を表す変数<code>x</code>は**課題②-2**と同じものを用いてください．\n",
        "\n",
        "* 関数 $y=\\exp x\\sin4x$ を $[-2\\pi,2\\pi]$ の定義域で表示\n",
        "* x軸，y軸の両方に文字列「x」「y」のラベルを表示\n",
        "* グラフは罫線付きで表示"
      ]
    },
    {
      "cell_type": "code",
      "metadata": {
        "id": "Rkyf5zQQFsiS"
      },
      "source": [],
      "execution_count": null,
      "outputs": []
    }
  ]
}