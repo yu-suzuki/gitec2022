{
  "nbformat": 4,
  "nbformat_minor": 0,
  "metadata": {
    "colab": {
      "provenance": []
    },
    "kernelspec": {
      "name": "python3",
      "display_name": "Python 3"
    }
  },
  "cells": [
    {
      "cell_type": "markdown",
      "metadata": {
        "id": "IpNJWeRr3YCR"
      },
      "source": [
        "# Python演習課題５\n",
        "※コードを実行する際は，▶ ボタンをクリックするか，ShiftキーとEnterキーを同時に押してください．\n",
        "\n",
        "※<code>[ア]</code>や<code>[イ]</code>などにコードを記入する際は，角括弧（[]）は削除してください．"
      ]
    },
    {
      "cell_type": "markdown",
      "metadata": {
        "id": "xzSp3SmmRCrZ"
      },
      "source": [
        "<font size=\"+1\">**課題①**</font><br>\n",
        "numpyの基本的な操作を確認しましょう．<br>\n",
        "<br>\n",
        "**課題①-1**<br>\n",
        "講義スライドに倣い，numpyをインポートしましょう．"
      ]
    },
    {
      "cell_type": "code",
      "metadata": {
        "id": "BkmSz3UvgPrU"
      },
      "source": [
        "import numpy as np"
      ],
      "execution_count": null,
      "outputs": []
    },
    {
      "cell_type": "markdown",
      "metadata": {
        "id": "tHjkNHwRgWHD"
      },
      "source": [
        "**課題①-2**<br>\n",
        "4×4の単位行列<code>a</code>を作成しましょう．"
      ]
    },
    {
      "cell_type": "code",
      "metadata": {
        "id": "YR49jORv6IgJ",
        "colab": {
          "base_uri": "https://localhost:8080/"
        },
        "outputId": "fe342197-6aae-4650-b40c-89ee22678875"
      },
      "source": [
        "a = np.eye(4,4)\n",
        "a"
      ],
      "execution_count": null,
      "outputs": [
        {
          "output_type": "execute_result",
          "data": {
            "text/plain": [
              "array([[1., 0., 0., 0.],\n",
              "       [0., 1., 0., 0.],\n",
              "       [0., 0., 1., 0.],\n",
              "       [0., 0., 0., 1.]])"
            ]
          },
          "metadata": {},
          "execution_count": 4
        }
      ]
    },
    {
      "cell_type": "markdown",
      "metadata": {
        "id": "9NskeM9U6PCN"
      },
      "source": [
        "**課題①-3**<br>\n",
        "以下を要素に持つ行列<code>b</code>を作成しましょう．<br>\n",
        "<table>\n",
        "<tr><th>0</th><th>1</th><th>2</th><th>3</th></tr>\n",
        "<tr><th>4</th><th>5</th><th>6</th><th>7</th></tr>\n",
        "<tr><th>8</th><th>9</th><th>10</th><th>11</th></tr>\n",
        "<tr><th>12</th><th>13</th><th>14</th><th>15</th></tr>\n",
        "</table>"
      ]
    },
    {
      "cell_type": "code",
      "metadata": {
        "id": "y10rKqrz8IN_",
        "colab": {
          "base_uri": "https://localhost:8080/"
        },
        "outputId": "90675c5f-a3a9-48bc-b704-476254c48363"
      },
      "source": [
        "b = np.array([[0,1,2,3],[4,5,6,7],[8,9,10,11],[12,13,14,15]])\n",
        "b"
      ],
      "execution_count": null,
      "outputs": [
        {
          "output_type": "execute_result",
          "data": {
            "text/plain": [
              "array([[ 0,  1,  2,  3],\n",
              "       [ 4,  5,  6,  7],\n",
              "       [ 8,  9, 10, 11],\n",
              "       [12, 13, 14, 15]])"
            ]
          },
          "metadata": {},
          "execution_count": 6
        }
      ]
    },
    {
      "cell_type": "markdown",
      "metadata": {
        "id": "DasBMwkCP3Nr"
      },
      "source": [
        "**課題①-4**<br>\n",
        "スライスを利用し，行列<code>b</code>の0行目を抽出したベクトル<code>c</code>を生成しましょう．<br>\n",
        "また，行列<code>b</code>の1列目を抽出したベクトル<code>d</code>を生成しましょう．"
      ]
    },
    {
      "cell_type": "code",
      "metadata": {
        "id": "17iza3kIP_xN",
        "colab": {
          "base_uri": "https://localhost:8080/"
        },
        "outputId": "f8685913-d916-43a2-cc3d-44acaff191f5"
      },
      "source": [
        "c = b[0]\n",
        "d = b[:,1]\n",
        "d"
      ],
      "execution_count": null,
      "outputs": [
        {
          "output_type": "execute_result",
          "data": {
            "text/plain": [
              "array([ 1,  5,  9, 13])"
            ]
          },
          "metadata": {},
          "execution_count": 13
        }
      ]
    },
    {
      "cell_type": "markdown",
      "metadata": {
        "id": "HCCe6QCQWwfx"
      },
      "source": [
        "**課題①-5**<br>\n",
        "インデックスに整数を用いた場合，ベクトル<code>d</code>は列方向を抽出したにもかかわらず，ベクトル<code>c</code>と同様に行方向に要素が並んだもの（行ベクトル）となります．<br>\n",
        "インデックスを<code>1:2</code>とし，行列<code>b</code>の1列目を抽出した**列**ベクトル<code>e</code>を生成しましょう．"
      ]
    },
    {
      "cell_type": "code",
      "metadata": {
        "id": "iy7XRYlIQOmT",
        "colab": {
          "base_uri": "https://localhost:8080/"
        },
        "outputId": "33ee084d-ef0e-4520-b735-31c32827dcb7"
      },
      "source": [
        "e = b[:,1:2]\n",
        "e"
      ],
      "execution_count": null,
      "outputs": [
        {
          "output_type": "execute_result",
          "data": {
            "text/plain": [
              "array([[ 1],\n",
              "       [ 5],\n",
              "       [ 9],\n",
              "       [13]])"
            ]
          },
          "metadata": {},
          "execution_count": 14
        }
      ]
    },
    {
      "cell_type": "markdown",
      "metadata": {
        "id": "3K13Qt0j8Mvn"
      },
      "source": [
        "**課題①-6**<br>\n",
        "行列<code>a</code>と行列<code>b</code>を要素ごとに加算し，行列<code>f</code>としましょう．"
      ]
    },
    {
      "cell_type": "code",
      "metadata": {
        "id": "D6yTG-RO8rx0",
        "colab": {
          "base_uri": "https://localhost:8080/"
        },
        "outputId": "7e3a8f5c-bfac-45e0-9386-46ede940a828"
      },
      "source": [
        "f = a + b\n",
        "f"
      ],
      "execution_count": null,
      "outputs": [
        {
          "output_type": "execute_result",
          "data": {
            "text/plain": [
              "array([[ 1.,  1.,  2.,  3.],\n",
              "       [ 4.,  6.,  6.,  7.],\n",
              "       [ 8.,  9., 11., 11.],\n",
              "       [12., 13., 14., 16.]])"
            ]
          },
          "metadata": {},
          "execution_count": 15
        }
      ]
    },
    {
      "cell_type": "markdown",
      "metadata": {
        "id": "ueITKWHaZXOz"
      },
      "source": [
        "**課題①-7**<br>\n",
        "行列<code>f</code>の3行2列目の要素を表示しましょう．"
      ]
    },
    {
      "cell_type": "code",
      "metadata": {
        "id": "hsZmgm-XZf_n",
        "colab": {
          "base_uri": "https://localhost:8080/"
        },
        "outputId": "9b381e3a-5136-417d-e1df-304a5d14918b"
      },
      "source": [
        "f[2,1]"
      ],
      "execution_count": null,
      "outputs": [
        {
          "output_type": "execute_result",
          "data": {
            "text/plain": [
              "9.0"
            ]
          },
          "metadata": {},
          "execution_count": 17
        }
      ]
    },
    {
      "cell_type": "markdown",
      "metadata": {
        "id": "L-Jx1nYv877N"
      },
      "source": [
        "**課題①-8**<br>\n",
        "行列<code>f</code>の各要素に対し$\\cos$の値を取り，行列<code>g</code>としましょう\n",
        "."
      ]
    },
    {
      "cell_type": "code",
      "metadata": {
        "id": "T_VpYGIm9ev9"
      },
      "source": [
        "g = np.cos(f)"
      ],
      "execution_count": null,
      "outputs": []
    },
    {
      "cell_type": "code",
      "source": [
        "g"
      ],
      "metadata": {
        "colab": {
          "base_uri": "https://localhost:8080/"
        },
        "id": "JKPR0jDdvKNk",
        "outputId": "f43ed168-1994-4085-90e5-81c0c4efb796"
      },
      "execution_count": null,
      "outputs": [
        {
          "output_type": "execute_result",
          "data": {
            "text/plain": [
              "array([[ 0.54030231,  0.54030231, -0.41614684, -0.9899925 ],\n",
              "       [-0.65364362,  0.96017029,  0.96017029,  0.75390225],\n",
              "       [-0.14550003, -0.91113026,  0.0044257 ,  0.0044257 ],\n",
              "       [ 0.84385396,  0.90744678,  0.13673722, -0.95765948]])"
            ]
          },
          "metadata": {},
          "execution_count": 19
        }
      ]
    },
    {
      "cell_type": "markdown",
      "metadata": {
        "id": "0F6Cq8h39l6r"
      },
      "source": [
        "**課題①-9**<br>\n",
        "行列<code>g</code>に対し，行のインデックスが増える方向（axis=0）に和を取ったベクトル<code>h</code>と列のインデックスが増える方向（axis=1）に和を取ったベクトル<code>i</code>を生成しましょう．"
      ]
    },
    {
      "cell_type": "code",
      "metadata": {
        "id": "29BOmeT1_xlv",
        "colab": {
          "base_uri": "https://localhost:8080/"
        },
        "outputId": "0528df9e-a318-4f75-fe55-be7c1172c049"
      },
      "source": [
        "h = g.sum(axis=0)\n",
        "i = g.sum(axis=1)\n",
        "h,i"
      ],
      "execution_count": null,
      "outputs": [
        {
          "output_type": "execute_result",
          "data": {
            "text/plain": [
              "(array([ 0.58501261,  1.49678911,  0.68518637, -1.18932402]),\n",
              " array([-0.32553472,  2.02059921, -1.0477789 ,  0.93037848]))"
            ]
          },
          "metadata": {},
          "execution_count": 20
        }
      ]
    },
    {
      "cell_type": "markdown",
      "metadata": {
        "id": "7YWvWhsQAFGW"
      },
      "source": [
        "**課題①-10**<br>\n",
        "ベクトル<code>i</code>に対し，0以上の要素のみを持つベクトル<code>j</code>を生成しましょう．"
      ]
    },
    {
      "cell_type": "code",
      "metadata": {
        "id": "Ym3E2MlQAq9r",
        "colab": {
          "base_uri": "https://localhost:8080/"
        },
        "outputId": "57d61452-fb6f-4c01-acde-46a0adca38be"
      },
      "source": [
        "x = [False, True, False, True]\n",
        "j = i * x\n",
        "j"
      ],
      "execution_count": null,
      "outputs": [
        {
          "output_type": "execute_result",
          "data": {
            "text/plain": [
              "array([-0.        ,  2.02059921, -0.        ,  0.93037848])"
            ]
          },
          "metadata": {},
          "execution_count": 22
        }
      ]
    },
    {
      "cell_type": "code",
      "source": [],
      "metadata": {
        "id": "MxkUrbucv7vk"
      },
      "execution_count": null,
      "outputs": []
    },
    {
      "cell_type": "code",
      "source": [],
      "metadata": {
        "id": "PwE2fMOIv6xt"
      },
      "execution_count": null,
      "outputs": []
    },
    {
      "cell_type": "markdown",
      "metadata": {
        "id": "EuxG3nDCY4IR"
      },
      "source": [
        "**課題①-11**<br>\n",
        "ベクトル<code>j</code>を利用し，ベクトル<code>i</code>のうち0以上の要素の和を求め表示しましょう．"
      ]
    },
    {
      "cell_type": "code",
      "metadata": {
        "id": "gD4Unh-1PnKX",
        "colab": {
          "base_uri": "https://localhost:8080/"
        },
        "outputId": "96c63549-ab89-420e-cd74-4b19fcf419c3"
      },
      "source": [
        "j.sum()"
      ],
      "execution_count": null,
      "outputs": [
        {
          "output_type": "execute_result",
          "data": {
            "text/plain": [
              "2.9509776848475617"
            ]
          },
          "metadata": {},
          "execution_count": 23
        }
      ]
    },
    {
      "cell_type": "markdown",
      "metadata": {
        "id": "1oUbQTOMvlew"
      },
      "source": [
        "<font size=\"+1\">**課題②**</font><br>\n",
        "$y=\\sin(x)$のグラフを$[-\\pi, \\pi]$の区間で描画することを考えます．<br>\n",
        "<br>\n",
        "**課題②-1**<br>\n",
        "講義スライドに倣い，numpyとmatplotlibのpyplotをインポートしましょう．"
      ]
    },
    {
      "cell_type": "code",
      "metadata": {
        "id": "NgjDwGXCqt9o"
      },
      "source": [
        "import matplotlib.pyplot as plt\n",
        "import numpy as np\n",
        "%matplotlib inline"
      ],
      "execution_count": null,
      "outputs": []
    },
    {
      "cell_type": "markdown",
      "metadata": {
        "id": "pWUTYJEdwc5X"
      },
      "source": [
        "**課題②-2**<br>\n",
        "$[-5, 5]$の区間で0.01刻みの小数列を要素に持つ配列<code>x</code>を生成しましょう．<br>\n",
        "また，配列<code>x</code>の各要素に対して$y=\\sin2x$を通した数を要素に持つ配列<code>y</code>を生成しましょう．"
      ]
    },
    {
      "cell_type": "code",
      "metadata": {
        "id": "JzNEdAG-q3lb",
        "colab": {
          "base_uri": "https://localhost:8080/"
        },
        "outputId": "cf497628-07d5-416f-9e70-3fe90e81bdca"
      },
      "source": [
        "x = np.arange(-10,10,0.01)\n",
        "x"
      ],
      "execution_count": null,
      "outputs": [
        {
          "output_type": "execute_result",
          "data": {
            "text/plain": [
              "array([-10.  ,  -9.99,  -9.98, ...,   9.97,   9.98,   9.99])"
            ]
          },
          "metadata": {},
          "execution_count": 47
        }
      ]
    },
    {
      "cell_type": "markdown",
      "metadata": {
        "id": "iW6zlIrCzzlh"
      },
      "source": [
        "**課題②-3**<br>\n",
        "生成した配列<code>x</code>および<code>y</code>を用いて$y=\\sin2x$のグラフを描画し，表示しましょう．<br>\n",
        "この段階ではタイトルや範囲などを指定する必要はありません．"
      ]
    },
    {
      "cell_type": "code",
      "metadata": {
        "id": "YExLHy45rkpT"
      },
      "source": [
        "y = np.sin(2 * x)"
      ],
      "execution_count": null,
      "outputs": []
    },
    {
      "cell_type": "code",
      "source": [
        "plt.plot(x,y)"
      ],
      "metadata": {
        "colab": {
          "base_uri": "https://localhost:8080/",
          "height": 283
        },
        "id": "pg-5UdsZwxEz",
        "outputId": "9ed72a3f-6859-49b3-bfd5-2f2376823658"
      },
      "execution_count": null,
      "outputs": [
        {
          "output_type": "execute_result",
          "data": {
            "text/plain": [
              "[<matplotlib.lines.Line2D at 0x7efc59000e10>]"
            ]
          },
          "metadata": {},
          "execution_count": 49
        },
        {
          "output_type": "display_data",
          "data": {
            "text/plain": [
              "<Figure size 432x288 with 1 Axes>"
            ],
            "image/png": "[encoded data removed]"
          },
          "metadata": {
            "needs_background": "light"
          }
        }
      ]
    },
    {
      "cell_type": "code",
      "source": [],
      "metadata": {
        "id": "57MC-8BaxB95"
      },
      "execution_count": null,
      "outputs": []
    },
    {
      "cell_type": "markdown",
      "metadata": {
        "id": "BD9W8epG1aXc"
      },
      "source": [
        "**課題②-4**<br>\n",
        "課題②-3のコードを改変して，x軸方向の表示範囲を$[-\\pi, \\pi]$にしましょう．"
      ]
    },
    {
      "cell_type": "code",
      "metadata": {
        "id": "7ng3R33wsbKh",
        "colab": {
          "base_uri": "https://localhost:8080/",
          "height": 283
        },
        "outputId": "49aa75f0-54df-4833-c54d-2d1e35e9b7e2"
      },
      "source": [
        "plt.xlim(-1*np.pi, np.pi)\n",
        "plt.plot(x,y)"
      ],
      "execution_count": null,
      "outputs": [
        {
          "output_type": "execute_result",
          "data": {
            "text/plain": [
              "[<matplotlib.lines.Line2D at 0x7efc58f76f90>]"
            ]
          },
          "metadata": {},
          "execution_count": 50
        },
        {
          "output_type": "display_data",
          "data": {
            "text/plain": [
              "<Figure size 432x288 with 1 Axes>"
            ],
            "image/png": "[encoded data removed]"
          },
          "metadata": {
            "needs_background": "light"
          }
        }
      ]
    },
    {
      "cell_type": "markdown",
      "metadata": {
        "id": "CpIRpugc1xvR"
      },
      "source": [
        "**課題②-5**<br>\n",
        "課題②-4のコードを改変して，タイトルを付けて表示しましょう．"
      ]
    },
    {
      "cell_type": "code",
      "metadata": {
        "id": "Ce1vTwAKs-iz",
        "colab": {
          "base_uri": "https://localhost:8080/",
          "height": 299
        },
        "outputId": "762a23c5-b9ba-4cff-88bc-b8154d817502"
      },
      "source": [
        "plt.xlim(-1*np.pi, np.pi)\n",
        "plt.title('Title')\n",
        "plt.plot(x,y)"
      ],
      "execution_count": null,
      "outputs": [
        {
          "output_type": "execute_result",
          "data": {
            "text/plain": [
              "[<matplotlib.lines.Line2D at 0x7efc59421890>]"
            ]
          },
          "metadata": {},
          "execution_count": 51
        },
        {
          "output_type": "display_data",
          "data": {
            "text/plain": [
              "<Figure size 432x288 with 1 Axes>"
            ],
            "image/png": "[encoded data removed]"
          },
          "metadata": {
            "needs_background": "light"
          }
        }
      ]
    },
    {
      "cell_type": "markdown",
      "metadata": {
        "id": "kg9CZcyDDwiO"
      },
      "source": [
        "**課題③**<br>\n",
        "以下の条件を満たすグラフを描画し，表示してください．<br>\n",
        "ただし，x軸の要素を表す変数<code>x</code>は**課題②-2**と同じものを用いてください．\n",
        "\n",
        "* 関数 $y=\\exp x\\sin4x$ を $[-2\\pi,2\\pi]$ の定義域で表示\n",
        "* x軸，y軸の両方に文字列「x」「y」のラベルを表示\n",
        "* グラフは罫線付きで表示"
      ]
    },
    {
      "cell_type": "code",
      "metadata": {
        "id": "Rkyf5zQQFsiS",
        "colab": {
          "base_uri": "https://localhost:8080/",
          "height": 299
        },
        "outputId": "f5ed730a-63fe-4a7f-dc04-5dd3398fdf5b"
      },
      "source": [
        "y = np.exp(x)*np.sin(4*x)\n",
        "plt.xlabel('x')\n",
        "plt.ylabel('y')\n",
        "plt.grid()\n",
        "plt.plot(x,y)"
      ],
      "execution_count": null,
      "outputs": [
        {
          "output_type": "execute_result",
          "data": {
            "text/plain": [
              "[<matplotlib.lines.Line2D at 0x7efc59375210>]"
            ]
          },
          "metadata": {},
          "execution_count": 53
        },
        {
          "output_type": "display_data",
          "data": {
            "text/plain": [
              "<Figure size 432x288 with 1 Axes>"
            ],
            "image/png": "[encoded data removed]"
          },
          "metadata": {
            "needs_background": "light"
          }
        }
      ]
    },
    {
      "cell_type": "code",
      "source": [],
      "metadata": {
        "id": "MYma5NV113LC"
      },
      "execution_count": null,
      "outputs": []
    }
  ]
}