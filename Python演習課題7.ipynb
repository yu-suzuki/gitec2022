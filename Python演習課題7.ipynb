{
  "nbformat": 4,
  "nbformat_minor": 0,
  "metadata": {
    "colab": {
      "provenance": []
    },
    "kernelspec": {
      "name": "python3",
      "display_name": "Python 3"
    }
  },
  "cells": [
    {
      "cell_type": "markdown",
      "metadata": {
        "id": "MucFZ_k9-jtb"
      },
      "source": [
        "# Python演習課題7\n",
        "※コードを実行する際は，▶ ボタンをクリックするか，ShiftキーとEnterキーを同時に押してください．\n",
        "\n",
        "※<code>[ア]</code>や<code>[イ]</code>などにコードを記入する際は，角括弧（[]）は削除してください．"
      ]
    },
    {
      "cell_type": "markdown",
      "metadata": {
        "id": "Obu0cttwVsjF"
      },
      "source": [
        "**課題①-1**<br>\n",
        "分類タスクの学習と評価を行うためのデータを読み込みます．<br>\n",
        "今回は[Titanic Dataset](http://stanford.io/3hWsoR7)を利用します．このデータには，タイタニック号乗船者の生存状況（0：死亡，1：生存）と，各乗船者の属性のデータが含まれています．属性には，\n",
        "\n",
        "* 性別（男性：0，女性：1）\n",
        "* 年齢\n",
        "* 乗客クラス（1～3等）\n",
        "* タイタニック号に同乗した兄弟，配偶者の数\n",
        "* タイタニック号に同乗した親，子の数\n",
        "* 旅客運賃\n",
        "\n",
        "があります．<br>\n",
        "\n",
        "以下の<code>[    ア    ]</code>を埋め，csvファイルからデータを読み込みましょう．なお，csvファイルは https://bit.ly/3q3kCYF から取得してください．適切に読み込まれたら，内容が表示されます．"
      ]
    },
    {
      "cell_type": "code",
      "metadata": {
        "id": "GOayWVD0KgxR"
      },
      "source": [
        "import pandas as pd\n",
        "import numpy as np\n",
        "from sklearn.model_selection import train_test_split\n",
        "\n",
        "# csvファイルの読み込み\n",
        "df = [    ア    ]\n",
        "\n",
        "# データを表示\n",
        "df"
      ],
      "execution_count": null,
      "outputs": []
    },
    {
      "cell_type": "markdown",
      "metadata": {
        "id": "VjE3tu_CdQHJ"
      },
      "source": [
        "**課題①-2**<br>\n",
        "以下の<code>[    イ    ]</code>～<code>[    エ    ]</code>を埋め，特徴量Xおよび正解ラベルyを獲得しましょう．<br>\n",
        "生存状況を正解ラベルy，性別～旅客運賃までを入力X（特徴量）としてください．<br>\n",
        "<code>.values</code>を利用してpandas.DataFrameからnumpy.ndarrayに変換すると，変換後のデータ型はobject型となります．<br>\n",
        "object型は正解ラベルとして利用できないため，型変換を行いint型にしてください（講義資料末尾の補足を参照）．"
      ]
    },
    {
      "cell_type": "code",
      "metadata": {
        "id": "jzmwE6OqdYae"
      },
      "source": [
        "# pandas.DataFrameからnumpy.ndarrayに変換\n",
        "a = [    イ    ]\n",
        "\n",
        "# 特徴量Xおよび正解ラベルyを獲得\n",
        "## 注意：yはデータ型をintに変換すること\n",
        "X = [    ウ    ]\n",
        "y = [    エ    ]"
      ],
      "execution_count": null,
      "outputs": []
    },
    {
      "cell_type": "markdown",
      "metadata": {
        "id": "R2NVFV-udYFi"
      },
      "source": [
        "**課題①-3**<br>\n",
        "以下の<code>[    オ    ]</code>を埋め，学習データおよびテストデータを獲得しましょう．<br>\n",
        "学習データの割合は80%，テストデータの割合は20%となるようにしてください．"
      ]
    },
    {
      "cell_type": "code",
      "metadata": {
        "id": "cCDo5v8GdcnR"
      },
      "source": [
        "# train_test_splitを用いて訓練データとテストデータに分割\n",
        "X_train, X_test, y_train, y_test = [    オ    ]"
      ],
      "execution_count": null,
      "outputs": []
    },
    {
      "cell_type": "markdown",
      "metadata": {
        "id": "knf0pyC8O-Fn"
      },
      "source": [
        "**課題①-4**<br>\n",
        "X_train，X_test，y_trainおよびy_testの各次元の要素数を<code>.shape</code>を利用して表示しましょう．<br>\n",
        "<code>train_test_split</code>を用いて学習データが80%，テストデータが20%の割合に分けられていれば，Xとyのそれぞれに関して第1次元の要素数が概ね8:2の割合になっていることを確認できます．<br>\n",
        "また，第2次元の要素数は上述した属性の数である6になっていることを確認できます．"
      ]
    },
    {
      "cell_type": "code",
      "metadata": {
        "id": "5ZjEHMB6O9nD"
      },
      "source": [
        "# X_trainの要素数を表示\n",
        "\n",
        "\n",
        "# X_testの要素数を表示\n",
        "\n",
        "\n",
        "# y_trainの要素数を表示\n",
        "\n",
        "\n",
        "# y_testの要素数を表示\n"
      ],
      "execution_count": null,
      "outputs": []
    },
    {
      "cell_type": "markdown",
      "metadata": {
        "id": "wU3duHwQQ308"
      },
      "source": [
        "**課題①-5**<br>\n",
        "X_trainおよびy_trainの先頭行（0番目）の要素を表示しましょう．<br>\n",
        "X_trainには上述した6つの属性の値が，y_trainには生存状況が保持されていることを確認できます．"
      ]
    },
    {
      "cell_type": "code",
      "metadata": {
        "id": "u_GfPBVaQ4Gc"
      },
      "source": [
        "# X_trainの先頭行の要素\n",
        "\n",
        "\n",
        "# y_trainの先頭行の要素\n"
      ],
      "execution_count": null,
      "outputs": []
    },
    {
      "cell_type": "markdown",
      "metadata": {
        "id": "Ajbtl9YCCMfW"
      },
      "source": [
        "**課題②**<br>\n",
        "本課題では，K最近傍法に基づく分類を行います．<br>\n",
        "\n",
        "以下の<code>[    カ    ]～[    ケ    ]</code>を埋め，近傍の数を1（n_neighborsを1）とした場合のK最近傍法による分類タスクの学習と評価を行いましょう．\n",
        "\n",
        "* 用いる近傍の数（<code>n_neighbors</code>）：1"
      ]
    },
    {
      "cell_type": "code",
      "metadata": {
        "id": "4FK8h99ZCM3f"
      },
      "source": [
        "from sklearn.neighbors import KNeighborsClassifier\n",
        "from sklearn.metrics import accuracy_score\n",
        "\n",
        "# neighborsのKNeighborsClassifierを初期化\n",
        "nn = [    カ    ]\n",
        "\n",
        "# 訓練データからモデルを学習\n",
        "[    キ    ]\n",
        "\n",
        "# モデルを用いてテストデータのラベルを予測\n",
        "y_pred = [    ク    ]\n",
        "\n",
        "# テストデータを用いて精度（正解率）を評価\n",
        "print('accuracy: {}'.format([    ケ    ]))"
      ],
      "execution_count": null,
      "outputs": []
    },
    {
      "cell_type": "markdown",
      "metadata": {
        "id": "PNq0G3NxVMJV"
      },
      "source": [
        "**課題③**<br>\n",
        "本課題では，K最近傍法に基づく分類を行います．<br>\n",
        "\n",
        "以下の<code>[    コ    ]～[    ス    ]</code>を埋め，近傍の数を3（n_neighborsを3）とした場合のK最近傍法による分類タスクの学習と評価を行いましょう．\n",
        "\n",
        "* 用いる近傍の数（<code>n_neighbors</code>）：3"
      ]
    },
    {
      "cell_type": "code",
      "metadata": {
        "id": "xX0t2QCXVYid"
      },
      "source": [
        "from sklearn.neighbors import KNeighborsClassifier\n",
        "from sklearn.metrics import accuracy_score\n",
        "\n",
        "# neighborsのKNeighborsClassifierを初期化\n",
        "knn = [    コ    ]\n",
        "\n",
        "# 訓練データからモデルを学習\n",
        "[    サ    ]\n",
        "\n",
        "# モデルを用いてテストデータのラベルを予測\n",
        "y_pred = [    シ    ]\n",
        "\n",
        "# テストデータを用いて精度（正解率）を評価\n",
        "print('accuracy: {}'.format([    ス    ]))"
      ],
      "execution_count": null,
      "outputs": []
    },
    {
      "cell_type": "markdown",
      "metadata": {
        "id": "DctZGdR9VY8Q"
      },
      "source": [
        "**課題④**<br>\n",
        "本課題では，ニューラルネットワーク（多層パーセプトロン）による分類タスクにチャレンジします．<br>\n",
        "\n",
        "以下の<code>[    セ    ]～[    チ    ]</code>を埋め，ニューラルネットワーク（多層パーセプトロン）による分類タスクの学習と評価を行いましょう．<br>\n",
        "ただし，パラメータを以下に設定すること．\n",
        "\n",
        "* 隠れ層（<code>hidden_layer_sizes</code>）：(100,100)\n",
        "* 活性化関数（<code>activation</code>）：relu\n",
        "* バッチサイズ（<code>batch_size</code>）：255\n",
        "* 最大イテレーション回数（<code>max_iter</code>）：300"
      ]
    },
    {
      "cell_type": "code",
      "metadata": {
        "id": "8pddpp4SMIgN"
      },
      "source": [
        "from sklearn.neural_network import MLPClassifier\n",
        "from sklearn.metrics import accuracy_score\n",
        "\n",
        "# neural_networkのMLPClassifierを初期化\n",
        "mlp = [    セ    ]\n",
        "\n",
        "# 訓練データからモデルを学習\n",
        "[    ソ    ]\n",
        "\n",
        "# モデルを用いてテストデータのラベルを予測\n",
        "y_pred = [    タ    ]\n",
        "\n",
        "# テストデータを用いて精度（正解率）を評価\n",
        "print('accuracy: {}'.format([    チ    ]))"
      ],
      "execution_count": null,
      "outputs": []
    },
    {
      "cell_type": "markdown",
      "metadata": {
        "id": "dATndb0Lizoz"
      },
      "source": [
        "**課題⑤**<br>\n",
        "これまでの課題で，モデルの性能を評価する手法として正解率（Accuracy）を用いてきました．本課題では，混同行列（Confusion Matrix）を用いてモデルの評価を行います．<br>\n",
        "以下に，最近傍法のモデルの予測結果（<code>nn.predict(X_test)</code>）と正解ラベル（<code>y_test</code>）から混同行列の計算し，それを描画する例を示します．"
      ]
    },
    {
      "cell_type": "code",
      "metadata": {
        "id": "1Zz90pUOe_kr"
      },
      "source": [
        "from sklearn.metrics import confusion_matrix, ConfusionMatrixDisplay\n",
        "\n",
        "# 混合行列を算出\n",
        "nn_cm = confusion_matrix(y_test, nn.predict(X_test))\n",
        "\n",
        "# 混合行列を表示\n",
        "nn_cm_disp = ConfusionMatrixDisplay(nn_cm, display_labels=nn.classes_)\n",
        "nn_cm_disp.plot()"
      ],
      "execution_count": null,
      "outputs": []
    },
    {
      "cell_type": "markdown",
      "metadata": {
        "id": "S7MC8HvFrtvt"
      },
      "source": [
        "上記を参考に，K近傍法および多層パーセプトロンのモデルの予測結果から混同行列を計算し，それを描画してください．"
      ]
    },
    {
      "cell_type": "code",
      "metadata": {
        "id": "xAfmh1G2gzZU"
      },
      "source": [
        "## K近傍法\n",
        "\n"
      ],
      "execution_count": null,
      "outputs": []
    },
    {
      "cell_type": "code",
      "metadata": {
        "id": "1Ld0kitCiji3"
      },
      "source": [
        "## 多層パーセプトロン\n",
        "\n"
      ],
      "execution_count": null,
      "outputs": []
    }
  ]
}